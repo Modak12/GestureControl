{
 "cells": [
  {
   "cell_type": "markdown",
   "metadata": {
    "colab_type": "text",
    "id": "view-in-github"
   },
   "source": [
    "<a href=\"https://colab.research.google.com/github/Modak12/GestureControl/blob/main/Neural_Nets_Manisha_Jayshree.ipynb\" target=\"_parent\"><img src=\"https://colab.research.google.com/assets/colab-badge.svg\" alt=\"Open In Colab\"/></a>"
   ]
  },
  {
   "cell_type": "markdown",
   "metadata": {
    "id": "FvUgx2F9Wnp4"
   },
   "source": [
    "# Gesture Recognition\n",
    "In this group project, you are going to build a 3D Conv model that will be able to predict the 5 gestures correctly. Please import the following libraries to get started."
   ]
  },
  {
   "cell_type": "code",
   "execution_count": 227,
   "metadata": {
    "id": "Q7xR8yayWnp5"
   },
   "outputs": [],
   "source": [
    "import numpy as np\n",
    "import os\n",
    "from imageio import imread\n",
    "from skimage.transform import resize\n",
    "import datetime\n",
    "import os"
   ]
  },
  {
   "cell_type": "markdown",
   "metadata": {
    "id": "sX1Dj1GCWnp6"
   },
   "source": [
    "We set the random seed so that the results don't vary drastically."
   ]
  },
  {
   "cell_type": "code",
   "execution_count": 228,
   "metadata": {
    "id": "hyNsRYi3Wnp6"
   },
   "outputs": [],
   "source": [
    "np.random.seed(30)\n",
    "import random as rn\n",
    "rn.seed(30)\n",
    "from keras import backend as K\n",
    "import tensorflow as tf\n",
    "tf.random.set_seed(30)"
   ]
  },
  {
   "cell_type": "markdown",
   "metadata": {
    "id": "s19mCH5kWnp6"
   },
   "source": [
    "In this block, you read the folder names for training and validation. You also set the `batch_size` here. Note that you set the batch size in such a way that you are able to use the GPU in full capacity. You keep increasing the batch size until the machine throws an error."
   ]
  },
  {
   "cell_type": "code",
   "execution_count": 229,
   "metadata": {
    "colab": {
     "base_uri": "https://localhost:8080/"
    },
    "id": "cqKCbigwWtCA",
    "outputId": "fb89ac93-100a-4235-b55a-7dc0c6912423"
   },
   "outputs": [
    {
     "name": "stdout",
     "output_type": "stream",
     "text": [
      "Drive already mounted at /content/drive; to attempt to forcibly remount, call drive.mount(\"/content/drive\", force_remount=True).\n"
     ]
    }
   ],
   "source": [
    "from google.colab import drive\n",
    "drive.mount('/content/drive')"
   ]
  },
  {
   "cell_type": "code",
   "execution_count": 230,
   "metadata": {
    "id": "jTb4uv3yWnp6"
   },
   "outputs": [],
   "source": [
    "train_doc = np.random.permutation(open('/content/drive/My Drive/Project_data/train.csv').readlines())\n",
    "val_doc = np.random.permutation(open('/content/drive/My Drive/Project_data/val.csv').readlines())\n",
    "batch_size = 16 #experiment with the batch size"
   ]
  },
  {
   "cell_type": "code",
   "execution_count": 231,
   "metadata": {
    "colab": {
     "base_uri": "https://localhost:8080/"
    },
    "id": "sCvshx9xbpw6",
    "outputId": "52ea109f-4775-4900-9bd0-0cea8cd7355a"
   },
   "outputs": [
    {
     "name": "stdout",
     "output_type": "stream",
     "text": [
      "663\n",
      "100\n"
     ]
    }
   ],
   "source": [
    "print(len(train_doc))\n",
    "print(len(val_doc))"
   ]
  },
  {
   "cell_type": "code",
   "execution_count": 232,
   "metadata": {
    "id": "XhKDwZKL3o_Q"
   },
   "outputs": [],
   "source": [
    "# trying model with 50 datasets now\n",
    "\n",
    "train_doc = list(train_doc)[:50]\n",
    "val_doc = list(val_doc)[:10]\n",
    "batch_size = 10"
   ]
  },
  {
   "cell_type": "code",
   "execution_count": 233,
   "metadata": {
    "id": "nIWLVZOb34Gv"
   },
   "outputs": [],
   "source": [
    "dimension={\n",
    "    'img_idx' : [x for x in range(30)],\n",
    "    'y' : 120,\n",
    "    'z' : 120\n",
    "}"
   ]
  },
  {
   "cell_type": "markdown",
   "metadata": {
    "id": "QSogT5nGWnp7"
   },
   "source": [
    "## Generator\n",
    "This is one of the most important part of the code. The overall structure of the generator has been given. In the generator, you are going to preprocess the images as you have images of 2 different dimensions as well as create a batch of video frames. You have to experiment with `img_idx`, `y`,`z` and normalization such that you get high accuracy."
   ]
  },
  {
   "cell_type": "code",
   "execution_count": 234,
   "metadata": {
    "id": "c6k7_2KtWnp7"
   },
   "outputs": [],
   "source": [
    "def generator(source_path, folder_list, batch_size, dimensions=dimension):\n",
    "\n",
    "    print( 'Source path = ', source_path, '; batch size =', batch_size)\n",
    "\n",
    "    img_idx = dimensions['img_idx']\n",
    "    x = len(img_idx)\n",
    "    y = dimensions['y']\n",
    "    z = dimensions['z']\n",
    "\n",
    "    while True:\n",
    "\n",
    "        t = np.random.permutation(folder_list)\n",
    "        num_batches = len(train_doc)//batch_size # calculate the number of batches\n",
    "        print(\"Number of batches : \",num_batches)\n",
    "\n",
    "        for batch in range(num_batches): # we iterate over the number of batches\n",
    "            batch_data = np.zeros((batch_size,x,y,z,3)) # x is the number of images you use for each video, (y,z) is the final size of the input images and 3 is the number of channels RGB\n",
    "            batch_labels = np.zeros((batch_size,5)) # batch_labels is the one hot representation of the output\n",
    "            for folder in range(batch_size): # iterate over the batch_size\n",
    "                imgs = os.listdir(source_path+'/'+ t[folder + (batch*batch_size)].split(';')[0]) # read all the images in the folder\n",
    "                for idx,item in enumerate(img_idx): #  Iterate iver the frames/images of a folder to read them in\n",
    "                    image = imread(source_path+'/'+ t[folder + (batch*batch_size)].strip().split(';')[0]+'/'+imgs[item]).astype(np.float32)\n",
    "\n",
    "                    #crop the images and resize them. Note that the images are of 2 different shape\n",
    "                    image = resize(image,(y,z))\n",
    "                    #and the conv3D will throw error if the inputs in a batch have different shapes\n",
    "\n",
    "                    batch_data[folder,idx,:,:,0] = (image[:,:,0])/255.0 #normalise and feed in the image\n",
    "                    batch_data[folder,idx,:,:,1] = (image[:,:,1])/255.0 #normalise and feed in the image\n",
    "                    batch_data[folder,idx,:,:,2] = (image[:,:,2])/255.0 #normalise and feed in the image\n",
    "\n",
    "                batch_labels[folder, int(t[folder + (batch*batch_size)].strip().split(';')[2])] = 1\n",
    "            yield batch_data, batch_labels #you yield the batch_data and the batch_labels, remember what does yield do\n",
    "\n",
    "\n",
    "        # write the code for the remaining data points which are left after full batches\n",
    "        if(len(t) % batch_size):\n",
    "          rem_batches = len(t) % batch_size\n",
    "          print(\"Remaining batches : \",rem_batches)\n",
    "          rem_batch_data = np.zeros((rem_batches,x,y,z,3))\n",
    "          batch_labels = np.zeros((rem_batches,5))\n",
    "          for folder in range(rem_batches): # iterate over the batch_size\n",
    "                imgs = os.listdir(source_path+'/'+ t[folder + (batch*rem_batches)].split(';')[0]) # read all the images in the folder\n",
    "                for idx,item in enumerate(img_idx): #  Iterate iver the frames/images of a folder to read them in\n",
    "                    image = imread(source_path+'/'+ t[folder + (batch*rem_batches)].strip().split(';')[0]+'/'+imgs[item]).astype(np.float32)\n",
    "\n",
    "                    #crop the images and resize them. Note that the images are of 2 different shape\n",
    "                    image = resize(image,(y,z))\n",
    "                    #and the conv3D will throw error if the inputs in a batch have different shapes\n",
    "\n",
    "                    rem_batch_data[folder,idx,:,:,0] = (image[:,:,0])/255 #normalise and feed in the image\n",
    "                    rem_batch_data[folder,idx,:,:,1] = (image[:,:,1])/255 #normalise and feed in the image\n",
    "                    rem_batch_data[folder,idx,:,:,2] = (image[:,:,2])/255 #normalise and feed in the image\n",
    "\n",
    "                batch_labels[folder, int(t[folder + (batch*rem_batches)].strip().split(';')[2])] = 1\n",
    "          yield rem_batch_data, batch_labels #you yield the batch_data and the batch_labels, remember what does yield do\n",
    "\n"
   ]
  },
  {
   "cell_type": "markdown",
   "metadata": {
    "id": "n8bvmbyAWnp8"
   },
   "source": [
    "Note here that a video is represented above in the generator as (number of images, height, width, number of channels). Take this into consideration while creating the model architecture."
   ]
  },
  {
   "cell_type": "code",
   "execution_count": 235,
   "metadata": {
    "colab": {
     "base_uri": "https://localhost:8080/"
    },
    "id": "oT-aYskgWnp8",
    "outputId": "527f1965-b0f3-40fc-f22a-e2e75ef05ed0"
   },
   "outputs": [
    {
     "name": "stdout",
     "output_type": "stream",
     "text": [
      "# training sequences = 50\n",
      "# validation sequences = 10\n",
      "# epochs = 1\n"
     ]
    }
   ],
   "source": [
    "curr_dt_time = datetime.datetime.now()\n",
    "\n",
    "train_path = '/content/drive/My Drive/Project_data/train'\n",
    "val_path = '/content/drive/My Drive/Project_data/val'\n",
    "\n",
    "num_train_sequences = len(train_doc)\n",
    "print('# training sequences =', num_train_sequences)\n",
    "\n",
    "num_val_sequences = len(val_doc)\n",
    "print('# validation sequences =', num_val_sequences)\n",
    "\n",
    "num_epochs = 1 # choose the number of epochs\n",
    "print ('# epochs =', num_epochs)"
   ]
  },
  {
   "cell_type": "code",
   "execution_count": 236,
   "metadata": {
    "colab": {
     "base_uri": "https://localhost:8080/"
    },
    "id": "paiJ_MIj4ON_",
    "outputId": "44513566-ba97-4081-8da3-f8cbc481c9fa"
   },
   "outputs": [
    {
     "name": "stdout",
     "output_type": "stream",
     "text": [
      "Source path =  /content/drive/My Drive/Project_data/train ; batch size = 1\n",
      "Number of batches :  50\n"
     ]
    },
    {
     "name": "stderr",
     "output_type": "stream",
     "text": [
      "<ipython-input-234-7764a8e080dd>:22: DeprecationWarning: Starting with ImageIO v3 the behavior of this function will switch to that of iio.v3.imread. To keep the current behavior (and make this warning disappear) use `import imageio.v2 as imageio` or call `imageio.v2.imread` directly.\n",
      "  image = imread(source_path+'/'+ t[folder + (batch*batch_size)].strip().split(';')[0]+'/'+imgs[item]).astype(np.float32)\n"
     ]
    }
   ],
   "source": [
    "# testing generative\n",
    "test_gen = generator(train_path, train_doc, 1)\n",
    "d = next(test_gen)[0]"
   ]
  },
  {
   "cell_type": "markdown",
   "metadata": {
    "id": "glXOu3f8Wnp8"
   },
   "source": [
    "## Model\n",
    "Here you make the model using different functionalities that Keras provides. Remember to use `Conv3D` and `MaxPooling3D` and not `Conv2D` and `Maxpooling2D` for a 3D convolution model. You would want to use `TimeDistributed` while building a Conv2D + RNN model. Also remember that the last layer is the softmax. Design the network in such a way that the model is able to give good accuracy on the least number of parameters so that it can fit in the memory of the webcam."
   ]
  },
  {
   "cell_type": "code",
   "execution_count": 237,
   "metadata": {
    "id": "KZ4eobHw3TiH"
   },
   "outputs": [],
   "source": [
    "from keras.models import Sequential, Model\n",
    "from keras.layers import Dense, GRU, Flatten, TimeDistributed, Flatten, BatchNormalization, Activation, Dropout\n",
    "from tensorflow.keras.layers import Conv2D, Conv3D, MaxPooling3D, MaxPooling2D, GlobalAveragePooling3D\n",
    "from keras.callbacks import ModelCheckpoint, ReduceLROnPlateau\n",
    "from keras import optimizers\n",
    "from tensorflow.keras.optimizers import Adam\n",
    "\n",
    "sample_shape = (30, 120, 120, 3)\n",
    "no_classes = 5"
   ]
  },
  {
   "cell_type": "markdown",
   "metadata": {
    "id": "1KMqHTn-3XCL"
   },
   "source": [
    "### 1.Conv 3D"
   ]
  },
  {
   "cell_type": "markdown",
   "metadata": {
    "id": "eCLhOpjaHhCE"
   },
   "source": [
    "Experiment 1"
   ]
  },
  {
   "cell_type": "code",
   "execution_count": 238,
   "metadata": {
    "id": "d0GbLQM0HfTw"
   },
   "outputs": [],
   "source": [
    "# Simple 3DConv Model\n",
    "\n",
    "# Conv3D -> Accuracy: 0.18 -> Simple Conv3D model"
   ]
  },
  {
   "cell_type": "code",
   "execution_count": 239,
   "metadata": {
    "id": "ZX-s2fHsHcDK"
   },
   "outputs": [],
   "source": [
    "# model = Sequential()\n",
    "# model.add(Conv3D(32, kernel_size=3, activation='relu', input_shape=sample_shape))\n",
    "# model.add(MaxPooling3D(pool_size=2))\n",
    "\n",
    "# model.add(Conv3D(64, kernel_size=3, activation='relu'))\n",
    "# model.add(MaxPooling3D(pool_size=2))\n",
    "\n",
    "# model.add(Flatten())\n",
    "# model.add(Dense(256, activation='relu'))\n",
    "# model.add(Dense(5, activation='softmax'))"
   ]
  },
  {
   "cell_type": "markdown",
   "metadata": {
    "id": "eInlPfw8K0h0"
   },
   "source": [
    "Experiment 2"
   ]
  },
  {
   "cell_type": "code",
   "execution_count": 240,
   "metadata": {
    "id": "M4HQjQjuKx1-"
   },
   "outputs": [],
   "source": [
    "#  3DConv Model with kernel size 5\n",
    "\n",
    "# Conv3D -> Accuracy: 0.28 -> 3DConv Model with kernel size 5, Improvement in accuracy"
   ]
  },
  {
   "cell_type": "code",
   "execution_count": 241,
   "metadata": {
    "id": "yacLZl1JWnp8"
   },
   "outputs": [],
   "source": [
    "# model = Sequential()\n",
    "\n",
    "# model.add(Conv3D(16, kernel_size=(5, 5, 5), activation='relu', kernel_initializer='he_uniform', input_shape=sample_shape))\n",
    "# model.add(MaxPooling3D(pool_size=(2, 2, 2), padding='same'))\n",
    "# BatchNormalization()\n",
    "\n",
    "# model.add(Conv3D(32, kernel_size=(3, 3, 3), activation='relu', kernel_initializer='he_uniform'))\n",
    "# model.add(MaxPooling3D(pool_size=(2, 2, 2), padding='same'))\n",
    "# BatchNormalization()\n",
    "\n",
    "# model.add(Conv3D(64, kernel_size=(3, 3, 3), activation='relu', kernel_initializer='he_uniform'))\n",
    "# model.add(MaxPooling3D(pool_size=(2, 2, 2), padding='same'))\n",
    "# BatchNormalization()\n",
    "\n",
    "# model.add(Flatten())\n",
    "# model.add(Dense(128, activation='relu', kernel_initializer='he_uniform'))\n",
    "# BatchNormalization(),\n",
    "# Dropout(0.25)\n",
    "\n",
    "# model.add(Dense(64, activation='relu', kernel_initializer='he_uniform'))\n",
    "# BatchNormalization(),\n",
    "# Dropout(0.25)\n",
    "\n",
    "# model.add(Dense(no_classes, activation='softmax'))\n"
   ]
  },
  {
   "cell_type": "markdown",
   "metadata": {
    "id": "doalD_Z5QKl3"
   },
   "source": [
    "Experiment 3"
   ]
  },
  {
   "cell_type": "code",
   "execution_count": 242,
   "metadata": {
    "id": "Q-jGU7qnNM38"
   },
   "outputs": [],
   "source": [
    "#  3DConv Model with kernel size 3\n",
    "\n",
    "# Conv3D -> Accuracy: 0.10 -> 3DConv Model with kernel size 3, accuracy dropped"
   ]
  },
  {
   "cell_type": "code",
   "execution_count": 243,
   "metadata": {
    "id": "LaxE5O71NRl8"
   },
   "outputs": [],
   "source": [
    "# model = Sequential()\n",
    "\n",
    "# model.add(Conv3D(32, kernel_size=(3, 3, 3), activation='relu', kernel_initializer='he_uniform', input_shape=sample_shape))\n",
    "# model.add(MaxPooling3D(pool_size=(2, 2, 2), padding='same'))\n",
    "# BatchNormalization()\n",
    "\n",
    "# model.add(Conv3D(64, kernel_size=(3, 3, 3), activation='relu', kernel_initializer='he_uniform'))\n",
    "# model.add(MaxPooling3D(pool_size=(2, 2, 2), padding='same'))\n",
    "# BatchNormalization()\n",
    "\n",
    "# model.add(Flatten())\n",
    "# model.add(Dense(128, activation='relu', kernel_initializer='he_uniform'))\n",
    "# BatchNormalization(),\n",
    "# Dropout(0.25)\n",
    "\n",
    "# model.add(Dense(64, activation='relu', kernel_initializer='he_uniform'))\n",
    "# BatchNormalization(),\n",
    "# Dropout(0.25)\n",
    "\n",
    "# model.add(Dense(no_classes, activation='softmax'))\n"
   ]
  },
  {
   "cell_type": "markdown",
   "metadata": {
    "id": "70RufLCWQN09"
   },
   "source": [
    "Experiment 4"
   ]
  },
  {
   "cell_type": "code",
   "execution_count": 244,
   "metadata": {
    "id": "gg0KY_AhQW-x"
   },
   "outputs": [],
   "source": [
    "#  3DConv Model with kernel size 5 and decresed poolsize\n",
    "\n",
    "# Conv3D -> Accuracy: 0.26 -> 3DConv Model with kernel size 5, accuracy increased."
   ]
  },
  {
   "cell_type": "code",
   "execution_count": 245,
   "metadata": {
    "id": "G675QUV2QPVs"
   },
   "outputs": [],
   "source": [
    "# model = Sequential()\n",
    "\n",
    "# model.add(Conv3D(16, kernel_size=(5, 5, 5), activation='relu', kernel_initializer='he_uniform', input_shape=sample_shape))\n",
    "# model.add(MaxPooling3D(pool_size=(2, 2, 2), padding='same'))\n",
    "# BatchNormalization()\n",
    "\n",
    "# model.add(Conv3D(32, kernel_size=(3, 3, 3), activation='relu', kernel_initializer='he_uniform'))\n",
    "# model.add(MaxPooling3D(pool_size=(1, 2, 2), padding='same'))\n",
    "# BatchNormalization()\n",
    "\n",
    "# model.add(Conv3D(64, kernel_size=(3, 3, 3), activation='relu', kernel_initializer='he_uniform'))\n",
    "# model.add(MaxPooling3D(pool_size=(1, 2, 2), padding='same'))\n",
    "# BatchNormalization()\n",
    "\n",
    "# model.add(Flatten())\n",
    "# model.add(Dense(128, activation='relu', kernel_initializer='he_uniform'))\n",
    "# BatchNormalization(),\n",
    "# Dropout(0.25)\n",
    "\n",
    "# model.add(Dense(64, activation='relu', kernel_initializer='he_uniform'))\n",
    "# BatchNormalization(),\n",
    "# Dropout(0.25)\n",
    "\n",
    "# model.add(Dense(no_classes, activation='softmax'))"
   ]
  },
  {
   "cell_type": "markdown",
   "metadata": {
    "id": "U5yO-p3iVAad"
   },
   "source": [
    "Experiment 5"
   ]
  },
  {
   "cell_type": "code",
   "execution_count": 246,
   "metadata": {
    "id": "a-uf3RgSU72T"
   },
   "outputs": [],
   "source": [
    "#  3DConv Model with kernel size 5 and increased layer\n",
    "\n",
    "# Conv3D -> Accuracy: 0.18 -> accuracy dropped to 0.18 again"
   ]
  },
  {
   "cell_type": "code",
   "execution_count": 247,
   "metadata": {
    "id": "a2b0JBYUVMjW"
   },
   "outputs": [],
   "source": [
    "# model = Sequential()\n",
    "\n",
    "# model.add(Conv3D(16, kernel_size=(5, 5, 5), activation='relu', kernel_initializer='he_uniform', input_shape=sample_shape))\n",
    "# model.add(MaxPooling3D(pool_size=(2, 2, 2), padding='same'))\n",
    "# BatchNormalization()\n",
    "\n",
    "# model.add(Conv3D(32, kernel_size=(3, 3, 3), activation='relu', kernel_initializer='he_uniform'))\n",
    "# model.add(MaxPooling3D(pool_size=(1, 2, 2), padding='same'))\n",
    "# BatchNormalization()\n",
    "\n",
    "# model.add(Conv3D(64, kernel_size=(3, 3, 3), activation='relu', kernel_initializer='he_uniform'))\n",
    "# model.add(MaxPooling3D(pool_size=(1, 2, 2), padding='same'))\n",
    "# BatchNormalization()\n",
    "\n",
    "# model.add(Conv3D(128, kernel_size=(1, 3, 3), activation='relu', kernel_initializer='he_uniform'))\n",
    "# model.add(MaxPooling3D(pool_size=(1, 2, 2), padding='same'))\n",
    "# BatchNormalization()\n",
    "\n",
    "# model.add(Flatten())\n",
    "# model.add(Dense(128, activation='relu', kernel_initializer='he_uniform'))\n",
    "# BatchNormalization(),\n",
    "# Dropout(0.25)\n",
    "\n",
    "# model.add(Dense(64, activation='relu', kernel_initializer='he_uniform'))\n",
    "# BatchNormalization(),\n",
    "# Dropout(0.25)\n",
    "\n",
    "# model.add(Dense(no_classes, activation='softmax'))"
   ]
  },
  {
   "cell_type": "markdown",
   "metadata": {
    "id": "5NLQdbrTbUvU"
   },
   "source": [
    "Experiment 6"
   ]
  },
  {
   "cell_type": "code",
   "execution_count": 248,
   "metadata": {
    "id": "aZRaSWwEbZ3z"
   },
   "outputs": [],
   "source": [
    "#  3DConv Model with kernel size 5 and different dropouts\n",
    "\n",
    "# Conv3D -> Accuracy: 0.26 -> accuracy restored to 0.26 again"
   ]
  },
  {
   "cell_type": "code",
   "execution_count": 249,
   "metadata": {
    "id": "YhkKicaxbfkv"
   },
   "outputs": [],
   "source": [
    "# model = Sequential()\n",
    "\n",
    "# model.add(Conv3D(16, kernel_size=(5, 5, 5), activation='relu', kernel_initializer='he_uniform', input_shape=sample_shape))\n",
    "# model.add(MaxPooling3D(pool_size=(2, 2, 2), padding='same'))\n",
    "# BatchNormalization()\n",
    "\n",
    "# model.add(Conv3D(32, kernel_size=(3, 3, 3), activation='relu', kernel_initializer='he_uniform'))\n",
    "# model.add(MaxPooling3D(pool_size=(1, 2, 2), padding='same'))\n",
    "# BatchNormalization()\n",
    "\n",
    "# model.add(Conv3D(64, kernel_size=(3, 3, 3), activation='relu', kernel_initializer='he_uniform'))\n",
    "# model.add(MaxPooling3D(pool_size=(1, 2, 2), padding='same'))\n",
    "# BatchNormalization()\n",
    "\n",
    "# model.add(Flatten())\n",
    "# model.add(Dense(128, activation='relu', kernel_initializer='he_uniform'))\n",
    "# BatchNormalization(),\n",
    "# Dropout(0.25)\n",
    "\n",
    "# model.add(Dense(64, activation='relu', kernel_initializer='he_uniform'))\n",
    "# BatchNormalization(),\n",
    "# Dropout(0.50)\n",
    "\n",
    "# model.add(Dense(no_classes, activation='softmax'))"
   ]
  },
  {
   "cell_type": "markdown",
   "metadata": {
    "id": "eN_876jD4nWK"
   },
   "source": [
    "### Experiment 7\n",
    " Conv2D + RNN"
   ]
  },
  {
   "cell_type": "code",
   "execution_count": 250,
   "metadata": {
    "id": "GxGCzXSy4l1Z"
   },
   "outputs": [],
   "source": [
    "#model = Sequential()\n",
    "#model.add(TimeDistributed(\n",
    " #   Conv2D(32, (3,3), activation='relu'), input_shape=input_shape)\n",
    "#)\n",
    "#model.add(TimeDistributed(\n",
    " #   MaxPooling2D((2,2)))\n",
    "#)\n",
    "#model.add(BatchNormalization())\n",
    "\n",
    "#model.add(TimeDistributed(\n",
    "#    Conv2D(64, (3,3), activation='relu'))\n",
    "#)\n",
    "#model.add(TimeDistributed(\n",
    "#    MaxPooling2D((2,2)))\n",
    "#)\n",
    "#model.add(BatchNormalization())\n",
    "\n",
    "#model.add(TimeDistributed(\n",
    "#    Conv2D(128, (3,3), activation='relu'))\n",
    "#)\n",
    "#model.add(TimeDistributed(\n",
    "#    MaxPooling2D((2,2)))\n",
    "#)\n",
    "#model.add(BatchNormalization())\n",
    "\n",
    "#model.add(GlobalAveragePooling3D())\n",
    "#model.add(Dense(256, activation='relu'))\n",
    "#model.add(BatchNormalization())\n",
    "#model.add(Dense(5, activation='softmax'))\n"
   ]
  },
  {
   "cell_type": "markdown",
   "metadata": {},
   "source": [
    "#### Experiment 8\n",
    ".CONV2D+GRU\n",
    "Experimenting by changed layers"
   ]
  },
  {
   "cell_type": "code",
   "execution_count": 2,
   "metadata": {},
   "outputs": [
    {
     "ename": "NameError",
     "evalue": "name 'Sequential' is not defined",
     "output_type": "error",
     "traceback": [
      "\u001b[0;31m---------------------------------------------------------------------------\u001b[0m",
      "\u001b[0;31mNameError\u001b[0m                                 Traceback (most recent call last)",
      "Cell \u001b[0;32mIn[2], line 1\u001b[0m\n\u001b[0;32m----> 1\u001b[0m model \u001b[38;5;241m=\u001b[39m Sequential()\n\u001b[1;32m      2\u001b[0m model\u001b[38;5;241m.\u001b[39madd(TimeDistributed(\n\u001b[1;32m      3\u001b[0m     Conv2D(\u001b[38;5;241m32\u001b[39m, (\u001b[38;5;241m3\u001b[39m,\u001b[38;5;241m3\u001b[39m), activation\u001b[38;5;241m=\u001b[39m\u001b[38;5;124m'\u001b[39m\u001b[38;5;124mrelu\u001b[39m\u001b[38;5;124m'\u001b[39m), input_shape\u001b[38;5;241m=\u001b[39minput_shape)\n\u001b[1;32m      4\u001b[0m )\n\u001b[1;32m      5\u001b[0m model\u001b[38;5;241m.\u001b[39madd(TimeDistributed(\n\u001b[1;32m      6\u001b[0m     MaxPooling2D((\u001b[38;5;241m2\u001b[39m,\u001b[38;5;241m2\u001b[39m)))\n\u001b[1;32m      7\u001b[0m )\n",
      "\u001b[0;31mNameError\u001b[0m: name 'Sequential' is not defined"
     ]
    }
   ],
   "source": [
    "model = Sequential()\n",
    "model.add(TimeDistributed(\n",
    "    Conv2D(32, (3,3), activation='relu'), input_shape=input_shape)\n",
    ")\n",
    "model.add(TimeDistributed(\n",
    "    MaxPooling2D((2,2)))\n",
    ")\n",
    "model.add(BatchNormalization())\n",
    "model.add(Dropout(0.2))\n",
    "model.add(TimeDistributed(\n",
    "    Conv2D(64, (3,3), activation='relu'))\n",
    ")\n",
    "model.add(TimeDistributed(\n",
    "    MaxPooling2D((2,2)))\n",
    ")\n",
    "model.add(BatchNormalization())\n",
    "model.add(Dropout(0.2))\n",
    "\n",
    "model.add(TimeDistributed(GlobalAveragePooling2D()))\n",
    "model.add(TimeDistributed(Dense(64, activation='relu')))\n",
    "model.add(BatchNormalization())\n",
    "model.add(Dropout(0.2))\n",
    "\n",
    "model.add(GRU(128))\n",
    "model.add(BatchNormalization())\n",
    "model.add(Dense(5, activation='softmax'))"
   ]
  },
  {
   "cell_type": "markdown",
   "metadata": {
    "id": "1Y5M4mN4Wnp8"
   },
   "source": [
    "Now that you have written the model, the next step is to `compile` the model. When you print the `summary` of the model, you'll see the total number of parameters you have to train."
   ]
  },
  {
   "cell_type": "code",
   "execution_count": 251,
   "metadata": {
    "colab": {
     "base_uri": "https://localhost:8080/"
    },
    "id": "9eihcGQ9Wnp9",
    "outputId": "c18b501c-5306-49e2-9be9-b35b6336ceed",
    "scrolled": true
   },
   "outputs": [
    {
     "name": "stderr",
     "output_type": "stream",
     "text": [
      "WARNING:absl:`lr` is deprecated in Keras optimizer, please use `learning_rate` or use the legacy optimizer, e.g.,tf.keras.optimizers.legacy.Adam.\n"
     ]
    },
    {
     "name": "stdout",
     "output_type": "stream",
     "text": [
      "Model: \"sequential_15\"\n",
      "_________________________________________________________________\n",
      " Layer (type)                Output Shape              Param #   \n",
      "=================================================================\n",
      " time_distributed (TimeDist  (None, 30, 118, 118, 32   896       \n",
      " ributed)                    )                                   \n",
      "                                                                 \n",
      " time_distributed_1 (TimeDi  (None, 30, 59, 59, 32)    0         \n",
      " stributed)                                                      \n",
      "                                                                 \n",
      " batch_normalization_49 (Ba  (None, 30, 59, 59, 32)    128       \n",
      " tchNormalization)                                               \n",
      "                                                                 \n",
      " time_distributed_2 (TimeDi  (None, 30, 57, 57, 64)    18496     \n",
      " stributed)                                                      \n",
      "                                                                 \n",
      " time_distributed_3 (TimeDi  (None, 30, 28, 28, 64)    0         \n",
      " stributed)                                                      \n",
      "                                                                 \n",
      " batch_normalization_50 (Ba  (None, 30, 28, 28, 64)    256       \n",
      " tchNormalization)                                               \n",
      "                                                                 \n",
      " time_distributed_4 (TimeDi  (None, 30, 26, 26, 128)   73856     \n",
      " stributed)                                                      \n",
      "                                                                 \n",
      " time_distributed_5 (TimeDi  (None, 30, 13, 13, 128)   0         \n",
      " stributed)                                                      \n",
      "                                                                 \n",
      " batch_normalization_51 (Ba  (None, 30, 13, 13, 128)   512       \n",
      " tchNormalization)                                               \n",
      "                                                                 \n",
      " global_average_pooling3d (  (None, 128)               0         \n",
      " GlobalAveragePooling3D)                                         \n",
      "                                                                 \n",
      " dense_34 (Dense)            (None, 256)               33024     \n",
      "                                                                 \n",
      " batch_normalization_52 (Ba  (None, 256)               1024      \n",
      " tchNormalization)                                               \n",
      "                                                                 \n",
      " dense_35 (Dense)            (None, 5)                 1285      \n",
      "                                                                 \n",
      "=================================================================\n",
      "Total params: 129477 (505.77 KB)\n",
      "Trainable params: 128517 (502.02 KB)\n",
      "Non-trainable params: 960 (3.75 KB)\n",
      "_________________________________________________________________\n",
      "None\n"
     ]
    }
   ],
   "source": [
    "optimiser = Adam(lr=0.001) #write your optimizer\n",
    "model.compile(optimizer=optimiser, loss='categorical_crossentropy', metrics=['categorical_accuracy'])\n",
    "print (model.summary())"
   ]
  },
  {
   "cell_type": "markdown",
   "metadata": {
    "id": "ER1pCjWOWnp9"
   },
   "source": [
    "Let us create the `train_generator` and the `val_generator` which will be used in `.fit_generator`."
   ]
  },
  {
   "cell_type": "code",
   "execution_count": 252,
   "metadata": {
    "id": "nFyj4IpyWnp9"
   },
   "outputs": [],
   "source": [
    "train_generator = generator(train_path, train_doc, batch_size)\n",
    "val_generator = generator(val_path, val_doc, batch_size)"
   ]
  },
  {
   "cell_type": "code",
   "execution_count": 253,
   "metadata": {
    "colab": {
     "base_uri": "https://localhost:8080/"
    },
    "id": "WnpjKZhPWnp9",
    "outputId": "4467a212-fa1e-45f4-d1d8-6e3362c1479a"
   },
   "outputs": [
    {
     "name": "stderr",
     "output_type": "stream",
     "text": [
      "WARNING:tensorflow:`period` argument is deprecated. Please use `save_freq` to specify the frequency in number of batches seen.\n"
     ]
    }
   ],
   "source": [
    "model_name = 'model_init' + '_' + str(curr_dt_time).replace(' ','').replace(':','_') + '/'\n",
    "\n",
    "if not os.path.exists(model_name):\n",
    "    os.mkdir(model_name)\n",
    "\n",
    "filepath = model_name + 'model-{epoch:05d}-{loss:.5f}-{categorical_accuracy:.5f}-{val_loss:.5f}-{val_categorical_accuracy:.5f}.h5'\n",
    "\n",
    "checkpoint = ModelCheckpoint(filepath, monitor='val_loss', verbose=1, save_best_only=False, save_weights_only=False, mode='auto', period=1)\n",
    "\n",
    "LR = ReduceLROnPlateau(monitor='val_loss', factor=0.2, verbose=1, patience=4) # write the REducelronplateau code here\n",
    "callbacks_list = [checkpoint, LR]"
   ]
  },
  {
   "cell_type": "markdown",
   "metadata": {
    "id": "lqX3uBfmWnp9"
   },
   "source": [
    "The `steps_per_epoch` and `validation_steps` are used by `fit_generator` to decide the number of next() calls it need to make."
   ]
  },
  {
   "cell_type": "code",
   "execution_count": 254,
   "metadata": {
    "id": "R4PlTeLiWnp9"
   },
   "outputs": [],
   "source": [
    "if (num_train_sequences%batch_size) == 0:\n",
    "    steps_per_epoch = int(num_train_sequences/batch_size)\n",
    "else:\n",
    "    steps_per_epoch = (num_train_sequences//batch_size) + 1\n",
    "\n",
    "if (num_val_sequences%batch_size) == 0:\n",
    "    validation_steps = int(num_val_sequences/batch_size)\n",
    "else:\n",
    "    validation_steps = (num_val_sequences//batch_size) + 1"
   ]
  },
  {
   "cell_type": "markdown",
   "metadata": {
    "id": "8fdUtz6hWnp9"
   },
   "source": [
    "Let us now fit the model. This will start training the model and with the help of the checkpoints, you'll be able to save the model at the end of each epoch."
   ]
  },
  {
   "cell_type": "code",
   "execution_count": 255,
   "metadata": {
    "colab": {
     "base_uri": "https://localhost:8080/"
    },
    "id": "1prIZPOXWnp9",
    "outputId": "02cc2a8a-8a67-4b43-9c63-8cb42fcafff6"
   },
   "outputs": [
    {
     "name": "stderr",
     "output_type": "stream",
     "text": [
      "<ipython-input-255-7f8f9d39394d>:1: UserWarning: `Model.fit_generator` is deprecated and will be removed in a future version. Please use `Model.fit`, which supports generators.\n",
      "  model.fit_generator(train_generator, steps_per_epoch=steps_per_epoch, epochs=num_epochs, verbose=1,\n",
      "<ipython-input-234-7764a8e080dd>:22: DeprecationWarning: Starting with ImageIO v3 the behavior of this function will switch to that of iio.v3.imread. To keep the current behavior (and make this warning disappear) use `import imageio.v2 as imageio` or call `imageio.v2.imread` directly.\n",
      "  image = imread(source_path+'/'+ t[folder + (batch*batch_size)].strip().split(';')[0]+'/'+imgs[item]).astype(np.float32)\n"
     ]
    },
    {
     "name": "stdout",
     "output_type": "stream",
     "text": [
      "Source path =  /content/drive/My Drive/Project_data/train ; batch size = 10\n",
      "Number of batches :  5\n",
      "3/5 [=================>............] - ETA: 26s - loss: 2.1398 - categorical_accuracy: 0.2667Number of batches :  5\n",
      "5/5 [==============================] - ETA: 0s - loss: 1.9457 - categorical_accuracy: 0.3200 Source path =  /content/drive/My Drive/Project_data/val ; batch size = 10\n",
      "Number of batches :  5\n",
      "\n",
      "Epoch 1: saving model to model_init_2024-03-2210_14_49.497730/model-00001-1.94573-0.32000-1.62759-0.10000.h5\n",
      "5/5 [==============================] - 81s 16s/step - loss: 1.9457 - categorical_accuracy: 0.3200 - val_loss: 1.6276 - val_categorical_accuracy: 0.1000 - lr: 0.0010\n"
     ]
    },
    {
     "data": {
      "text/plain": [
       "<keras.src.callbacks.History at 0x7c924446b640>"
      ]
     },
     "execution_count": 255,
     "metadata": {},
     "output_type": "execute_result"
    }
   ],
   "source": [
    "model.fit_generator(train_generator, steps_per_epoch=steps_per_epoch, epochs=num_epochs, verbose=1,\n",
    "                    callbacks=callbacks_list, validation_data=val_generator,\n",
    "                    validation_steps=validation_steps, class_weight=None, workers=1, initial_epoch=0)"
   ]
  },
  {
   "cell_type": "code",
   "execution_count": 255,
   "metadata": {
    "id": "vOT5w7SxWnp9"
   },
   "outputs": [],
   "source": []
  }
 ],
 "metadata": {
  "colab": {
   "include_colab_link": true,
   "provenance": []
  },
  "kernelspec": {
   "display_name": "Python 3 (ipykernel)",
   "language": "python",
   "name": "python3"
  },
  "language_info": {
   "codemirror_mode": {
    "name": "ipython",
    "version": 3
   },
   "file_extension": ".py",
   "mimetype": "text/x-python",
   "name": "python",
   "nbconvert_exporter": "python",
   "pygments_lexer": "ipython3",
   "version": "3.11.7"
  }
 },
 "nbformat": 4,
 "nbformat_minor": 4
}
